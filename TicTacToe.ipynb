{
  "nbformat": 4,
  "nbformat_minor": 0,
  "metadata": {
    "colab": {
      "name": "TicTacToe.ipynb",
      "provenance": [],
      "collapsed_sections": [],
      "authorship_tag": "ABX9TyOEapOv2ZXJ1NqtLNC5w5IB",
      "include_colab_link": true
    },
    "kernelspec": {
      "name": "python3",
      "display_name": "Python 3"
    },
    "language_info": {
      "name": "python"
    }
  },
  "cells": [
    {
      "cell_type": "markdown",
      "metadata": {
        "id": "view-in-github",
        "colab_type": "text"
      },
      "source": [
        "<a href=\"https://colab.research.google.com/github/Goodnowcurr30/G_TicTacToe/blob/master/TicTacToe.ipynb\" target=\"_parent\"><img src=\"https://colab.research.google.com/assets/colab-badge.svg\" alt=\"Open In Colab\"/></a>"
      ]
    },
    {
      "cell_type": "code",
      "metadata": {
        "colab": {
          "base_uri": "https://localhost:8080/"
        },
        "id": "UDPwOu3-ee4C",
        "outputId": "ddca8171-f9a6-41c6-fb01-2311e9fc9db9"
      },
      "source": [
        "pip install pygame"
      ],
      "execution_count": 1,
      "outputs": [
        {
          "output_type": "stream",
          "text": [
            "Collecting pygame\n",
            "\u001b[?25l  Downloading https://files.pythonhosted.org/packages/4b/9e/c400554dd1d0e562bd4379f35ad5023c68fc120003a58991405850f56f95/pygame-2.0.1-cp37-cp37m-manylinux1_x86_64.whl (11.8MB)\n",
            "\u001b[K     |████████████████████████████████| 11.8MB 6.6MB/s \n",
            "\u001b[?25hInstalling collected packages: pygame\n",
            "Successfully installed pygame-2.0.1\n"
          ],
          "name": "stdout"
        }
      ]
    },
    {
      "cell_type": "code",
      "metadata": {
        "id": "QAM_YZSPf23j"
      },
      "source": [
        "import pygame as pg, sys\n",
        "from pygame.locals import *\n",
        "import time\n",
        "\n",
        "import os\n",
        "os.environ['SDL_VIDEODRIVER']='dummy'"
      ],
      "execution_count": 21,
      "outputs": []
    },
    {
      "cell_type": "code",
      "metadata": {
        "id": "AGjpOJU9gYYp"
      },
      "source": [
        "#initialize global variables\n",
        "XO = 'x'\n",
        "winner = None\n",
        "draw = False\n",
        "width = 400\n",
        "height = 400\n",
        "white = (255, 255, 255)\n",
        "line_color = (10, 10, 10)\n",
        "\n",
        "#TicTacToe 3x3 board\n",
        "TTT = [[None]*3, [None]*3, [None]*3]"
      ],
      "execution_count": 22,
      "outputs": []
    },
    {
      "cell_type": "code",
      "metadata": {
        "id": "-2uckAeXhLIM"
      },
      "source": [
        "#initializing pygame window\n",
        "pg.init()\n",
        "fps = 30\n",
        "CLOCK = pg.time.Clock()\n",
        "screen = pg.display.set_mode((width, height+100), 0, 32)\n",
        "pg.display.set_caption(\"Tic Tac Toe\")"
      ],
      "execution_count": 23,
      "outputs": []
    },
    {
      "cell_type": "code",
      "metadata": {
        "id": "6VLI2yjFk535"
      },
      "source": [
        "#loading the images\n",
        "opening = pg.image.load('tic tac opening.png')\n",
        "x_img = pg.image.load('X.png')\n",
        "o_img = pg.image.load('O.png')\n",
        "\n",
        "#resizing images\n",
        "x_img = pg.transform.scale(x_img, (80,80))\n",
        "o_img = pg.transform.scale(o_img, (80,80))\n",
        "opening = pg.transform.scale(opening, (width, height+100))"
      ],
      "execution_count": 24,
      "outputs": []
    },
    {
      "cell_type": "code",
      "metadata": {
        "id": "1hplXmpNnDYE"
      },
      "source": [
        "#game opening\n",
        "def game_opening():\n",
        "  screen.blit(opening, (0,0))\n",
        "  pg.display.update()\n",
        "  time.sleep(1)\n",
        "  screen.fill(white)\n",
        "\n",
        "  #drawing vertical lines\n",
        "  pg.draw.line(screen, line_color, (width/3, 0), (width/3, height), 7)\n",
        "  pg.draw.line(screen, line_color, (width/3*2, 0), (width/3*2, height), 7)\n",
        "  #drawing horizontal lines\n",
        "  pg.draw.line(screen, line_color, (0, height/3), (width, height/3), 7)\n",
        "  pg.draw.line(screen, line_color, (0, height/3*2), (width, height/3*2), 7)\n",
        "  draw_status()"
      ],
      "execution_count": 25,
      "outputs": []
    },
    {
      "cell_type": "code",
      "metadata": {
        "id": "8Hxfo8glpoEM"
      },
      "source": [
        "#draw status\n",
        "def draw_status():\n",
        "  global draw\n",
        "\n",
        "  if winner is None:\n",
        "    message = XO.upper() + \"'s Turn\"\n",
        "  else:\n",
        "    message = winner.upper() + \" won!\"\n",
        "  if draw:\n",
        "    message = \"Game Draw!\"\n",
        "\n",
        "  font = pg.font.Font(None, 30)\n",
        "  text = font.render(message, 1, (255, 255, 255))\n",
        "\n",
        "  #copy the rendered message onto the board\n",
        "  screen.fill((0,0,0), (0,400,500,100))\n",
        "  text_rect = text.get_rect(center = (width/2, 500-50))\n",
        "  screen.blit(text, text_rect)\n",
        "  pg.display.update()"
      ],
      "execution_count": 26,
      "outputs": []
    },
    {
      "cell_type": "code",
      "metadata": {
        "id": "YICFJWSxr5af"
      },
      "source": [
        "#check win\n",
        "def check_win():\n",
        "  global TTT, winner, draw\n",
        "\n",
        "  #check for winning rows\n",
        "  for row in range (0,3):\n",
        "    if ((TTT[row][0] == TTT[row][1] == TTT[row][2]) and (TTT[row][0] is not None)):\n",
        "      #this row won\n",
        "      winner = TTT[row][0]\n",
        "      pg.draw.line(screen, (250,0,0), (0, (row + 1)*height/3 -height/6), (width, (row + 1)*height/3 - height/6 ), 4)\n",
        "      break\n",
        "\n",
        "  #check for winning colums\n",
        "  for col in range(0, 3):\n",
        "    if (TTT[0][col] == TTT[1][col] == TTT[2][col]) and (TTT[0][col] is not None):\n",
        "      #this column won\n",
        "      winner = TTT[0][col]\n",
        "      #draw winning line\n",
        "      pg.draw.line(screen, (250,0,0), ((col + 1)*width/3 - width/6, 0), ((col + 1)* width/3 - width/6, height), 4)\n",
        "      break\n",
        "\n",
        "  #check for diagonal winners\n",
        "  if (TTT[0][0] == TTT[1][1] == TTT[2][2]) and (TTT[0][0] is not None):\n",
        "    #game won diagonally left to right\n",
        "    winner = TTT[0][0]\n",
        "    pg.draw.line(screen, (250, 70, 70), (50, 50), (350, 350), 4)\n",
        "  if (TTT[0][2] == TTT[1][1] == TTT[2][0]) and (TTT[0][2] is not None):\n",
        "    #game won diagonally right to left\n",
        "    winner = TTT[0][2]\n",
        "    pg.draw.line(screen, (250, 70, 70), (350, 50), (50, 350), 4)\n",
        "  if (all([all(row) for row in TTT]) and winner is None):\n",
        "    draw = True\n",
        "  draw_status()"
      ],
      "execution_count": 27,
      "outputs": []
    },
    {
      "cell_type": "code",
      "metadata": {
        "id": "fw_dHhaT3pXD"
      },
      "source": [
        "#draw XO row and column\n",
        "def drawXO(row, col):\n",
        "  global TTT, XO\n",
        "  if row == 1:\n",
        "    posx = 30\n",
        "  if row == 2:\n",
        "    posx = width/3 + 30\n",
        "  if row == 3:\n",
        "    posx = width/3*2 + 30\n",
        "\n",
        "  if col == 1:\n",
        "    posy = 30\n",
        "  if col == 2:\n",
        "    posy = height/3 + 30\n",
        "  if col == 3:\n",
        "    posy = height/3*2 + 30\n",
        "  TTT[row-1][col-1] = XO\n",
        "  if (XO == 'x'):\n",
        "    screen.blit(x_img, (posy, posx))\n",
        "    XO = 'o'\n",
        "  else:\n",
        "    screen.blit(o_img, (posy, posx))\n",
        "    XO = 'x'\n",
        "  pg.display.update()\n",
        "  #print(posx, posy)\n",
        "  #print(TTT)"
      ],
      "execution_count": 29,
      "outputs": []
    },
    {
      "cell_type": "code",
      "metadata": {
        "id": "Pndwzzjd5iCS"
      },
      "source": [
        "#The userClick() function is triggered every time the user presses the mouse button.\n",
        "def userClick():\n",
        "  #get coordinates of mouse click\n",
        "  x, y = pg.mouse.get_pos()\n",
        "\n",
        "  #get column of mouse click (1-3)\n",
        "  if (x < width/3):\n",
        "    col = 1\n",
        "  elif (x < width/3*2):\n",
        "    col = 2\n",
        "  elif (x < width):\n",
        "    col = 3\n",
        "  else:\n",
        "    col = None\n",
        "\n",
        "  #get row of mouse click (1-3)\n",
        "  if (y < height/3):\n",
        "    row = 1\n",
        "  elif (y < height/3*2):\n",
        "    row = 2\n",
        "  elif (y < height):\n",
        "    row = 3\n",
        "  else:\n",
        "    row = None\n",
        "  #print(row,col)\n",
        "\n",
        "\n",
        "  if(row and col and TTT[row-1][col-1] is None):\n",
        "    global XO\n",
        "\n",
        "    #draw the x or o on the screen\n",
        "    drawXO(row, col)\n",
        "    check_win()"
      ],
      "execution_count": 30,
      "outputs": []
    },
    {
      "cell_type": "code",
      "metadata": {
        "id": "IaJAZe908NAF"
      },
      "source": [
        "#reset the game\n",
        "def reset_game():\n",
        "  global TTT, winner, XO, draw\n",
        "  time.sleep(3)\n",
        "  XO = 'x'\n",
        "  draw = False\n",
        "  game_opening()\n",
        "  winner = None\n",
        "  TTT = [[None]*3, [None]*3, [None]*3]"
      ],
      "execution_count": 31,
      "outputs": []
    },
    {
      "cell_type": "code",
      "metadata": {
        "id": "RdszsnW28w5b"
      },
      "source": [
        "game_opening()\n",
        "\n",
        "#run the game forever using loop\n",
        "while(True):\n",
        "  for event in pg.event.get():\n",
        "    if event.type == QUIT:\n",
        "      pg.quit()\n",
        "      sys.exit()\n",
        "    elif event.type == MOUSEBUTTONDOWN:\n",
        "      #the user clicked; place and X or O\n",
        "      userClick()\n",
        "      if(winner or draw):\n",
        "        reset_game()\n",
        "  pg.display.update()\n",
        "  CLOCK.tick(fps)"
      ],
      "execution_count": null,
      "outputs": []
    }
  ]
}